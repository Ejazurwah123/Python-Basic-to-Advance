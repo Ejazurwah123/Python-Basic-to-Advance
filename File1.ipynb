{
 "cells": [
  {
   "cell_type": "code",
   "execution_count": 1,
   "metadata": {},
   "outputs": [],
   "source": [
    "# import files\n",
    "File3 = open(\"Complete_Dictionary.txt\",'w',encoding=\"utf-8\")\n",
    "File1 = open(\"words.txt\",'r',encoding=\"utf-8\") \n",
    "content01 = File1.read()\n",
    "File3.write(content01)\n",
    "File3.close()\n",
    "\n",
    "File3 = open(\"Complete_Dictionary.txt\",'a',encoding=\"utf-8\")\n",
    "File2 = open(\"bigram_words.txt\",'r',encoding=\"utf-8\") \n",
    "content02 = File2.read()\n",
    "File3.write(content02)\n",
    "\n",
    "\n",
    "# step to remove - from complate dictionary\n",
    "F = open(\"Complete_Dictionary.txt\",'r',encoding=\"utf-8\")\n",
    "N = open(\"Updated_Dictionary.txt\",'w',encoding=\"utf-8\") \n",
    "for line in F:\n",
    "    modified = line.replace(\"_\",\"\")\n",
    "    N.write(modified)\n",
    "\n",
    "# reading data from Dictionary\n",
    "readd = open(\"Updated_Dictionary.txt\",'r',encoding=\"utf-8\")\n",
    "WD = readd.read() \n",
    "Whole_Dictionary = WD.strip().split()\n",
    "# print(type(Whole_Dictionary))\n",
    "# whole dictionary is a list\n",
    "# \n",
    "# ju wrong data ha osay read karwana hay and string mein store karna hay\n",
    " \n",
    "w = open(\"words_test.txt\",\"r\",encoding=\"utf-8\") \n",
    "WronData = w.read()\n",
    "WrongData = WronData.strip().split()\n",
    "\n",
    "\n",
    "ReadData = open(\"error_words_urdu.txt\",'r',encoding='utf-8')\n",
    "Data = ReadData.read()\n",
    "words_list = [line.replace('_', ' ').strip() for line in Data.strip().split('\\n')]"
   ]
  },
  {
   "cell_type": "code",
   "execution_count": 2,
   "metadata": {},
   "outputs": [],
   "source": [
    "def Q1 (wrong_data,Dictionary):\n",
    "  # you have to write your complete code in this function\n",
    "  foundwords = []\n",
    "  # empty list to store the matched words\n",
    "  while wrong_data:\n",
    "        # loop until all of the wrong data is not being checked\n",
    "        maximumword = ''\n",
    "        # each loop will create one maximum word in order to see if it matches\n",
    "        for word in Dictionary:\n",
    "            # for each word in dictionary list it will check if the wrong data starts with that word or not\n",
    "            if wrong_data.startswith(word) and len(word) > len(maximumword):\n",
    "                # if so then the word will be stored in maximumword\n",
    "                maximumword = word\n",
    "        if maximumword:\n",
    "            # and if we found maximum word then we will add it in the foundwords list\n",
    "            # further we will slice the wrong data string\n",
    "            foundwords.append(maximumword)\n",
    "            wrong_data = wrong_data[len(maximumword):]\n",
    "        else:\n",
    "            break\n",
    "  return foundwords\n",
    "\n",
    "\n"
   ]
  },
  {
   "cell_type": "code",
   "execution_count": 3,
   "metadata": {},
   "outputs": [],
   "source": [
    "# correct=Q1(wrong_data,Dictionary)\n",
    "with open(\"Output.txt\", 'w', encoding=\"utf-8\") as new_updated_file:\n",
    "\n",
    "        for line in WrongData:\n",
    "        #  segmented_sentence = segment_urdu_sentence(line,Whole_Dictionary)\n",
    "#        # Write the segmented sentence to the output file\n",
    "          segment_urdu_sentence = Q1(line,Whole_Dictionary)\n",
    "          new_sentence = \" \".join(segment_urdu_sentence)\n",
    "        #  segment_urdu_sentence.join(\" \")\n",
    "        #   print(new_sentence)\n",
    "          new_updated_file.write(new_sentence+\"\\n\")\n"
   ]
  },
  {
   "cell_type": "code",
   "execution_count": null,
   "metadata": {},
   "outputs": [],
   "source": []
  }
 ],
 "metadata": {
  "kernelspec": {
   "display_name": "Python 3",
   "language": "python",
   "name": "python3"
  },
  "language_info": {
   "codemirror_mode": {
    "name": "ipython",
    "version": 3
   },
   "file_extension": ".py",
   "mimetype": "text/x-python",
   "name": "python",
   "nbconvert_exporter": "python",
   "pygments_lexer": "ipython3",
   "version": "3.11.4"
  }
 },
 "nbformat": 4,
 "nbformat_minor": 2
}
