{
 "cells": [
  {
   "cell_type": "code",
   "execution_count": 1,
   "metadata": {},
   "outputs": [],
   "source": [
    "import numpy as np\n",
    "spacecraft_position = np.array([500, 200, 100])\n"
   ]
  },
  {
   "cell_type": "code",
   "execution_count": 2,
   "metadata": {},
   "outputs": [
    {
     "name": "stdout",
     "output_type": "stream",
     "text": [
      "Nearest Habitable Planet-> Kepler-442b\n",
      "With Distance-> 244.94897427831782\n"
     ]
    }
   ],
   "source": [
    "planet_names = [\"Proxima Centauri b\", \"Kepler-442b\", \"Kepler-186f\", \"TRAPPIST-1 Planets\", \"Gliese 581g\", \"Kepler-22b\"]\n",
    "planet_coordinates = np.array([[1000, 800, 500],\n",
    "                               [700, 300, 200],\n",
    "                               [900, 600, 800],\n",
    "                               [1200, 1000, 700],\n",
    "                               [1500, 1200, 900],\n",
    "                               [800, 500, 300]])\n",
    "# Find the nearest habitable planet using the Euclidean distance formula\n",
    "NearestPlanet_position = 0\n",
    "NearestPlanet_Dist = float('inf')  \n",
    "\n",
    "for position, p_cords in enumerate(planet_coordinates):\n",
    "    # applying the formula for each coordinate in planet coordinates\n",
    "    combined = zip(spacecraft_position, p_cords)\n",
    "    sum_val = sum((cord_x - cord_y) ** 2 for cord_x, cord_y in combined)\n",
    "    euclidean =  sum_val ** 0.5  \n",
    "    # now the check the min value\n",
    "    if euclidean < NearestPlanet_Dist:\n",
    "        NearestPlanet_Dist = euclidean\n",
    "        NearestPlanet_position = position\n",
    "\n",
    "# accessing the nearest planent by the help of index we stored in if statements\n",
    "NearPlanet_found = planet_names[NearestPlanet_position]\n",
    "print(f\"Nearest Habitable Planet-> {NearPlanet_found}\" )\n",
    "print(f\"With Distance-> {NearestPlanet_Dist}\")\n"
   ]
  },
  {
   "cell_type": "code",
   "execution_count": 3,
   "metadata": {},
   "outputs": [
    {
     "name": "stdout",
     "output_type": "stream",
     "text": [
      "Angles:-> [1.19897258 1.34894501 1.23172391 1.10941101 0.98525764 1.29614942]\n"
     ]
    }
   ],
   "source": [
    "# Now find the angle between the origin planet and each planet in 3d space using numpy functions\n",
    "product = (planet_coordinates * spacecraft_position).sum(axis = 1)\n",
    "magnitude_vectors = np.linalg.norm(planet_coordinates) * np.linalg.norm(spacecraft_position)\n",
    "angle = np.arccos(product / magnitude_vectors)\n",
    "print(f\"Angles:-> {angle}\")"
   ]
  },
  {
   "cell_type": "code",
   "execution_count": null,
   "metadata": {},
   "outputs": [],
   "source": []
  }
 ],
 "metadata": {
  "kernelspec": {
   "display_name": "Python 3",
   "language": "python",
   "name": "python3"
  },
  "language_info": {
   "codemirror_mode": {
    "name": "ipython",
    "version": 3
   },
   "file_extension": ".py",
   "mimetype": "text/x-python",
   "name": "python",
   "nbconvert_exporter": "python",
   "pygments_lexer": "ipython3",
   "version": "3.11.4"
  }
 },
 "nbformat": 4,
 "nbformat_minor": 2
}
