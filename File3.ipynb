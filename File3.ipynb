{
 "cells": [
  {
   "cell_type": "code",
   "execution_count": 1,
   "metadata": {},
   "outputs": [],
   "source": [
    "from PIL import Image\n",
    "import numpy as np"
   ]
  },
  {
   "cell_type": "code",
   "execution_count": 2,
   "metadata": {},
   "outputs": [],
   "source": [
    "picture = Image.open(\"fr_jpg.jpg\")  \n",
    "# Convert the PIL image to a NumPy array\n",
    "picture_np = np.array(picture)\n",
    "# Get the dimensions (width and height) of the image\n",
    "picture_height, picture_width = picture_np.shape[:2]\n",
    "# Calculate the coordinates for the middle region\n",
    "# You can adjust the size of the middle region as needed\n",
    "Mid_width = picture_width // 4  \n",
    "Mid_height = picture_height // 4  \n",
    "# left = (image_width - middle_width) // 2\n",
    "left = (picture_width - (Mid_width//2)) // 2\n",
    "# upper = image_height - (middle_height*3)\n",
    "upper = ((picture_height) - (Mid_height*3))-45\n",
    "# this statement of upper is working well\n",
    "right = (left + (Mid_width//2))+17\n",
    "lower = (upper + Mid_height)*2\n",
    "# Crop the middle region\n",
    "Mid_Region = picture_np[upper:lower, left:right]\n",
    "cropped_image = Image.fromarray(Mid_Region)\n",
    "cropped_image.save(\"cropped_middle.jpg\") \n",
    "cropped_image.show() "
   ]
  },
  {
   "cell_type": "code",
   "execution_count": 3,
   "metadata": {},
   "outputs": [],
   "source": [
    "cropped_picture = Image.open(\"cropped_middle.jpg\")\n",
    "background = Image.open(\"bg_jpg.jpg\")\n",
    "\n",
    "Image_background_np = np.array(background)\n",
    "cropped_picture_np = np.array(cropped_picture)\n",
    "\n",
    "# Calculate the position to paste the image in the middle of the background\n",
    "x_coordinate = (background.width - cropped_picture.width) // 2\n",
    "y_coordinate = (background.height - cropped_picture.height)\n",
    "#Green colour Defined Ranges Defined\n",
    "lower_green_bound = np.array([0, 100, 0])\n",
    "upper_green_bound = np.array([100, 255, 100])\n",
    "\n",
    "#Mask for the green pixels\n",
    "Condition1 = cropped_picture_np >= lower_green_bound\n",
    "Condition2 = cropped_picture_np <= upper_green_bound\n",
    "Result = Condition1 & Condition2\n",
    "green_area_check = Result.all(axis=-1)\n",
    "# checking along the last pixel that if they fall within the defined lower bound and upper bound of the green r\n",
    "# /region defined\n",
    "\n",
    "# Replace the green pixels with the corresponding background color\n",
    "cropped_picture_np[green_area_check] = Image_background_np[y_coordinate:y_coordinate+cropped_picture.height, x_coordinate:x_coordinate+cropped_picture.width][green_area_check]\n",
    "new_crop = Image.fromarray(cropped_picture_np)\n",
    "background.paste(new_crop, (x_coordinate, y_coordinate))\n",
    "background.save(\"result_image.jpg\")\n",
    "background.show()"
   ]
  },
  {
   "cell_type": "code",
   "execution_count": null,
   "metadata": {},
   "outputs": [],
   "source": []
  }
 ],
 "metadata": {
  "kernelspec": {
   "display_name": "Python 3",
   "language": "python",
   "name": "python3"
  },
  "language_info": {
   "codemirror_mode": {
    "name": "ipython",
    "version": 3
   },
   "file_extension": ".py",
   "mimetype": "text/x-python",
   "name": "python",
   "nbconvert_exporter": "python",
   "pygments_lexer": "ipython3",
   "version": "3.11.4"
  }
 },
 "nbformat": 4,
 "nbformat_minor": 2
}
